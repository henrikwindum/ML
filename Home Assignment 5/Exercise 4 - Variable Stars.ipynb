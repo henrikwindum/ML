{
 "cells": [
  {
   "cell_type": "code",
   "execution_count": 3,
   "metadata": {},
   "outputs": [],
   "source": [
    "import numpy as np\n",
    "import pandas as pd\n",
    "\n",
    "def fetch_data(path, encoding=\"utf-8\"):\n",
    "    X = []\n",
    "    y = []\n",
    "    with open(path, encoding=encoding) as file:\n",
    "        for line in file:\n",
    "            data_string = line.rstrip().split(\",\")\n",
    "            X.append(np.array(data_string[:-1], dtype=float))\n",
    "            y.append(int(data_string[-1]))\n",
    "    return np.array(X), np.array(y)\n",
    "\n",
    "X_train, y_train = fetch_data(\"VSTrain.dt\")\n",
    "X_test, y_test = fetch_data(\"VSTest.dt\")\n",
    "\n",
    "N = len(y_train)"
   ]
  },
  {
   "cell_type": "code",
   "execution_count": 4,
   "metadata": {},
   "outputs": [
    {
     "name": "stdout",
     "output_type": "stream",
     "text": [
      "Class:  0  |  Total: 68  |  Frequency: 0.088197  |  Percentage:  8.819715 %\n",
      "Class:  1  |  Total: 22  |  Frequency: 0.028534  |  Percentage:  2.853437 %\n",
      "Class:  2  |  Total:  1  |  Frequency: 0.001297  |  Percentage:  0.129702 %\n",
      "Class:  3  |  Total: 96  |  Frequency: 0.124514  |  Percentage: 12.451362 %\n",
      "Class:  4  |  Total: 17  |  Frequency: 0.022049  |  Percentage:  2.204929 %\n",
      "Class:  5  |  Total: 50  |  Frequency: 0.064851  |  Percentage:  6.485084 %\n",
      "Class:  6  |  Total: 60  |  Frequency: 0.077821  |  Percentage:  7.782101 %\n",
      "Class:  7  |  Total: 10  |  Frequency: 0.012970  |  Percentage:  1.297017 %\n",
      "Class:  8  |  Total: 27  |  Frequency: 0.035019  |  Percentage:  3.501946 %\n",
      "Class:  9  |  Total: 58  |  Frequency: 0.075227  |  Percentage:  7.522698 %\n",
      "Class: 10  |  Total:  9  |  Frequency: 0.011673  |  Percentage:  1.167315 %\n",
      "Class: 11  |  Total: 21  |  Frequency: 0.027237  |  Percentage:  2.723735 %\n",
      "Class: 12  |  Total: 19  |  Frequency: 0.024643  |  Percentage:  2.464332 %\n",
      "Class: 13  |  Total:  9  |  Frequency: 0.011673  |  Percentage:  1.167315 %\n",
      "Class: 14  |  Total: 21  |  Frequency: 0.027237  |  Percentage:  2.723735 %\n",
      "Class: 15  |  Total: 26  |  Frequency: 0.033722  |  Percentage:  3.372244 %\n",
      "Class: 16  |  Total: 23  |  Frequency: 0.029831  |  Percentage:  2.983139 %\n",
      "Class: 17  |  Total: 26  |  Frequency: 0.033722  |  Percentage:  3.372244 %\n",
      "Class: 18  |  Total:  6  |  Frequency: 0.007782  |  Percentage:  0.778210 %\n",
      "Class: 19  |  Total: 10  |  Frequency: 0.012970  |  Percentage:  1.297017 %\n",
      "Class: 20  |  Total:  3  |  Frequency: 0.003891  |  Percentage:  0.389105 %\n",
      "Class: 21  |  Total:  7  |  Frequency: 0.009079  |  Percentage:  0.907912 %\n",
      "Class: 22  |  Total: 82  |  Frequency: 0.106355  |  Percentage: 10.635538 %\n",
      "Class: 23  |  Total: 68  |  Frequency: 0.088197  |  Percentage:  8.819715 %\n",
      "Class: 24  |  Total: 32  |  Frequency: 0.041505  |  Percentage:  4.150454 %\n"
     ]
    }
   ],
   "source": [
    "counts = np.unique(y_train, return_counts=True)\n",
    "\n",
    "size = {}\n",
    "classes = []\n",
    "for class_, count in zip(counts[0], counts[1]):\n",
    "    if count >= 65:\n",
    "        classes.append(class_)\n",
    "        size[class_] = count\n",
    "        \n",
    "    freq = count / N\n",
    "    print(f\"Class: {class_:2}  |  Total: {count:2}  |  Frequency: {freq:f}  |  Percentage: {freq*100:9f} %\")\n",
    "    \n",
    "classes = np.array(classes)"
   ]
  },
  {
   "cell_type": "code",
   "execution_count": 5,
   "metadata": {},
   "outputs": [],
   "source": [
    "train_indices = [idx for idx, y in enumerate(y_train) if y not in classes]\n",
    "test_indices = [idx for idx, y in enumerate(y_test) if y not in classes]\n",
    "        \n",
    "X_train, y_train = (\n",
    "    np.delete(X_train, train_indices, axis=0), \n",
    "    np.delete(y_train, train_indices))\n",
    "\n",
    "X_test, y_test = (\n",
    "    np.delete(X_test, test_indices, axis=0),\n",
    "    np.delete(y_test, test_indices))"
   ]
  },
  {
   "cell_type": "code",
   "execution_count": 6,
   "metadata": {},
   "outputs": [
    {
     "data": {
      "text/plain": [
       "(314, 335)"
      ]
     },
     "execution_count": 6,
     "metadata": {},
     "output_type": "execute_result"
    }
   ],
   "source": [
    "len(y_train), len(y_test)"
   ]
  },
  {
   "cell_type": "code",
   "execution_count": 7,
   "metadata": {},
   "outputs": [],
   "source": [
    "def normalize(data, mu, var):\n",
    "    return (data - mu)/var\n",
    "\n",
    "X_train_mu = X_train.mean(axis=0)\n",
    "X_train_std = X_train.std(axis=0)\n",
    "\n",
    "X_train_norm = normalize(X_train, X_train_mu, X_train_std)\n",
    "X_test_norm = normalize(X_test, X_train_mu, X_train_std)"
   ]
  },
  {
   "cell_type": "code",
   "execution_count": 8,
   "metadata": {},
   "outputs": [],
   "source": [
    "from sklearn.decomposition import PCA\n",
    "\n",
    "pca = PCA(n_components=2)\n",
    "components = pca.fit_transform(X_train_norm)"
   ]
  },
  {
   "cell_type": "code",
   "execution_count": 9,
   "metadata": {},
   "outputs": [
    {
     "data": {
      "image/png": "[encoded data removed]",
      "text/plain": [
       "<Figure size 432x288 with 1 Axes>"
      ]
     },
     "metadata": {
      "needs_background": "light"
     },
     "output_type": "display_data"
    }
   ],
   "source": [
    "import matplotlib.pyplot as plt\n",
    "\n",
    "data = {\n",
    "    0  : [],\n",
    "    3  : [],\n",
    "    22 : [],\n",
    "    23 : []\n",
    "}\n",
    "\n",
    "label_dict = {\n",
    "    0  : 'Mira',\n",
    "    3  : 'Classical Cep',\n",
    "    22 : 'Beta Persei',\n",
    "    23 : 'Beta Lyrae'\n",
    "}\n",
    "\n",
    "c_dict = {\n",
    "    0  : 'r',\n",
    "    3  : 'g',\n",
    "    22 : 'b',\n",
    "    23 : 'c'\n",
    "}\n",
    "\n",
    "for x, y in zip(components, y_train):\n",
    "    data[y].extend(x)\n",
    "\n",
    "y_unique = np.unique(y_train)\n",
    "\n",
    "for y in y_unique:\n",
    "    X = np.array(data[y]).reshape(size[y], 2)\n",
    "    plt.scatter(X[:,0], X[:,1], c=c_dict[y], label=label_dict[y])\n",
    "\n",
    "plt.title(\"PCA scatter plot\")\n",
    "plt.legend()\n",
    "plt.grid()"
   ]
  },
  {
   "cell_type": "code",
   "execution_count": 19,
   "metadata": {},
   "outputs": [],
   "source": [
    "from sklearn.cluster import KMeans\n",
    "\n",
    "kmeans_clf_rnd = KMeans(n_clusters=4, init='random', random_state=42).fit(components)\n",
    "\n",
    "kmeans_clf_plus = KMeans(n_clusters=4, init='k-means++', random_state=42).fit(components)\n",
    "\n",
    "rnd_centroids = kmeans_clf_rnd.cluster_centers_\n",
    "\n",
    "plus_centroids = kmeans_clf_plus.cluster_centers_"
   ]
  },
  {
   "cell_type": "code",
   "execution_count": 27,
   "metadata": {},
   "outputs": [
    {
     "data": {
      "image/png": "[encoded data removed]",
      "text/plain": [
       "<Figure size 432x288 with 1 Axes>"
      ]
     },
     "metadata": {
      "needs_background": "light"
     },
     "output_type": "display_data"
    }
   ],
   "source": [
    "for y in y_unique:\n",
    "    X = np.array(data[y]).reshape(size[y], 2)\n",
    "    plt.scatter(X[:,0], X[:,1], c=c_dict[y])\n",
    "\n",
    "plt.scatter(plus_centroids[:,0], plus_centroids[:,1], c='black', s=100, label='k-mean++ init')\n",
    "plt.scatter(rnd_centroids[:,0], rnd_centroids[:,1], c='navy', s=100, marker=\"x\", label='random init')\n",
    "\n",
    "plt.title(\"PCA centroids\")\n",
    "plt.legend()\n",
    "plt.grid()\n"
   ]
  },
  {
   "cell_type": "code",
   "execution_count": null,
   "metadata": {},
   "outputs": [],
   "source": []
  },
  {
   "cell_type": "code",
   "execution_count": null,
   "metadata": {},
   "outputs": [],
   "source": []
  },
  {
   "cell_type": "code",
   "execution_count": null,
   "metadata": {},
   "outputs": [],
   "source": []
  },
  {
   "cell_type": "code",
   "execution_count": null,
   "metadata": {},
   "outputs": [],
   "source": []
  },
  {
   "cell_type": "code",
   "execution_count": null,
   "metadata": {},
   "outputs": [],
   "source": []
  },
  {
   "cell_type": "code",
   "execution_count": null,
   "metadata": {},
   "outputs": [],
   "source": []
  },
  {
   "cell_type": "code",
   "execution_count": null,
   "metadata": {},
   "outputs": [],
   "source": []
  }
 ],
 "metadata": {
  "kernelspec": {
   "display_name": "Python 3",
   "language": "python",
   "name": "python3"
  },
  "language_info": {
   "codemirror_mode": {
    "name": "ipython",
    "version": 3
   },
   "file_extension": ".py",
   "mimetype": "text/x-python",
   "name": "python",
   "nbconvert_exporter": "python",
   "pygments_lexer": "ipython3",
   "version": "3.8.5"
  }
 },
 "nbformat": 4,
 "nbformat_minor": 5
}
