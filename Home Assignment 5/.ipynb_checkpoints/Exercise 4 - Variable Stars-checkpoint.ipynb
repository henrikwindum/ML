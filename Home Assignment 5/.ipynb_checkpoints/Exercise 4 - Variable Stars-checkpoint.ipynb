{
 "cells": [
  {
   "cell_type": "code",
   "execution_count": 1,
   "id": "9fd01d2b",
   "metadata": {},
   "outputs": [],
   "source": [
    "import numpy as np\n",
    "import pandas as pd\n",
    "\n",
    "def fetch_data(path, encoding=\"utf-8\"):\n",
    "    X = []\n",
    "    y = []\n",
    "    with open(path, encoding=encoding) as file:\n",
    "        for line in file:\n",
    "            data_string = line.rstrip().split(\",\")\n",
    "            X.append(np.array(data_string[:-1], dtype=float))\n",
    "            y.append(int(data_string[-1]))\n",
    "    return np.array(X), np.array(y)\n",
    "\n",
    "X_train, y_train = fetch_data(\"VSTrain.dt\")\n",
    "X_test, y_test = fetch_data(\"VSTest.dt\")\n",
    "\n",
    "N = len(y_train)"
   ]
  },
  {
   "cell_type": "code",
   "execution_count": 2,
   "id": "ed58c351",
   "metadata": {},
   "outputs": [
    {
     "name": "stdout",
     "output_type": "stream",
     "text": [
      "Class:  0  |  Total: 68  |  Frequency: 0.088197  |  Percentage:  8.819715 %\n",
      "Class:  1  |  Total: 22  |  Frequency: 0.028534  |  Percentage:  2.853437 %\n",
      "Class:  2  |  Total:  1  |  Frequency: 0.001297  |  Percentage:  0.129702 %\n",
      "Class:  3  |  Total: 96  |  Frequency: 0.124514  |  Percentage: 12.451362 %\n",
      "Class:  4  |  Total: 17  |  Frequency: 0.022049  |  Percentage:  2.204929 %\n",
      "Class:  5  |  Total: 50  |  Frequency: 0.064851  |  Percentage:  6.485084 %\n",
      "Class:  6  |  Total: 60  |  Frequency: 0.077821  |  Percentage:  7.782101 %\n",
      "Class:  7  |  Total: 10  |  Frequency: 0.012970  |  Percentage:  1.297017 %\n",
      "Class:  8  |  Total: 27  |  Frequency: 0.035019  |  Percentage:  3.501946 %\n",
      "Class:  9  |  Total: 58  |  Frequency: 0.075227  |  Percentage:  7.522698 %\n",
      "Class: 10  |  Total:  9  |  Frequency: 0.011673  |  Percentage:  1.167315 %\n",
      "Class: 11  |  Total: 21  |  Frequency: 0.027237  |  Percentage:  2.723735 %\n",
      "Class: 12  |  Total: 19  |  Frequency: 0.024643  |  Percentage:  2.464332 %\n",
      "Class: 13  |  Total:  9  |  Frequency: 0.011673  |  Percentage:  1.167315 %\n",
      "Class: 14  |  Total: 21  |  Frequency: 0.027237  |  Percentage:  2.723735 %\n",
      "Class: 15  |  Total: 26  |  Frequency: 0.033722  |  Percentage:  3.372244 %\n",
      "Class: 16  |  Total: 23  |  Frequency: 0.029831  |  Percentage:  2.983139 %\n",
      "Class: 17  |  Total: 26  |  Frequency: 0.033722  |  Percentage:  3.372244 %\n",
      "Class: 18  |  Total:  6  |  Frequency: 0.007782  |  Percentage:  0.778210 %\n",
      "Class: 19  |  Total: 10  |  Frequency: 0.012970  |  Percentage:  1.297017 %\n",
      "Class: 20  |  Total:  3  |  Frequency: 0.003891  |  Percentage:  0.389105 %\n",
      "Class: 21  |  Total:  7  |  Frequency: 0.009079  |  Percentage:  0.907912 %\n",
      "Class: 22  |  Total: 82  |  Frequency: 0.106355  |  Percentage: 10.635538 %\n",
      "Class: 23  |  Total: 68  |  Frequency: 0.088197  |  Percentage:  8.819715 %\n",
      "Class: 24  |  Total: 32  |  Frequency: 0.041505  |  Percentage:  4.150454 %\n"
     ]
    }
   ],
   "source": [
    "counts = np.unique(y_train, return_counts=True)\n",
    "\n",
    "classes = []\n",
    "for class_, count in zip(counts[0], counts[1]):\n",
    "    if count >= 65:\n",
    "        classes.append(class_)\n",
    "        \n",
    "    freq = count / N\n",
    "    print(f\"Class: {class_:2}  |  Total: {count:2}  |  Frequency: {freq:f}  |  Percentage: {freq*100:9f} %\")\n",
    "    \n",
    "classes = np.array(classes)"
   ]
  },
  {
   "cell_type": "code",
   "execution_count": 3,
   "id": "e2ade49b",
   "metadata": {},
   "outputs": [],
   "source": [
    "train_indices = [idx for idx, y in enumerate(y_train) if y not in classes]\n",
    "test_indices = [idx for idx, y in enumerate(y_test) if y not in classes]\n",
    "        \n",
    "X_train, y_train = np.delete(X_train, train_indices, axis=0), np.delete(y_train, train_indices)\n",
    "X_test, y_test = np.delete(X_test, test_indices, axis=0), np.delete(y_test, test_indices)"
   ]
  },
  {
   "cell_type": "code",
   "execution_count": 4,
   "id": "e3ae2243",
   "metadata": {},
   "outputs": [
    {
     "data": {
      "text/plain": [
       "(314, 335)"
      ]
     },
     "execution_count": 4,
     "metadata": {},
     "output_type": "execute_result"
    }
   ],
   "source": [
    "len(y_train), len(y_test)"
   ]
  },
  {
   "cell_type": "code",
   "execution_count": 5,
   "id": "b354996d",
   "metadata": {},
   "outputs": [],
   "source": [
    "def normalize(data, mu, var):\n",
    "    return (data - mu)/var\n",
    "\n",
    "X_train_mu = X_train.mean(axis=0)\n",
    "X_train_std = X_train.std(axis=0)\n",
    "\n",
    "X_train_norm = normalize(X_train, X_train_mu, X_train_std)\n",
    "X_test_norm = normalize(X_test, X_train_mu, X_train_std)"
   ]
  },
  {
   "cell_type": "code",
   "execution_count": 9,
   "id": "1af4d4a5",
   "metadata": {},
   "outputs": [],
   "source": [
    "S = np.dot(X_train_norm.T, X_train_norm) # Computes a 61x61 scatter matrix / empirical covariance matrix\n",
    "decomp = np.linalg.eig(S / N)"
   ]
  },
  {
   "cell_type": "code",
   "execution_count": 15,
   "id": "394a9e42",
   "metadata": {},
   "outputs": [
    {
     "data": {
      "text/plain": [
       "((61,), (61, 61))"
      ]
     },
     "execution_count": 15,
     "metadata": {},
     "output_type": "execute_result"
    }
   ],
   "source": [
    "decomp[0].shape, decomp[1].shape"
   ]
  },
  {
   "cell_type": "code",
   "execution_count": 33,
   "id": "522e7c84",
   "metadata": {},
   "outputs": [],
   "source": [
    "u,s,v = np.linalg.svd(X_train_norm, full_matrices=False)"
   ]
  },
  {
   "cell_type": "code",
   "execution_count": 35,
   "id": "8d0ec206",
   "metadata": {},
   "outputs": [
    {
     "data": {
      "text/plain": [
       "((314, 61), (61,), (61, 61))"
      ]
     },
     "execution_count": 35,
     "metadata": {},
     "output_type": "execute_result"
    }
   ],
   "source": [
    "u.shape, s.shape, v.shape"
   ]
  },
  {
   "cell_type": "code",
   "execution_count": 39,
   "id": "4a25c344",
   "metadata": {},
   "outputs": [
    {
     "data": {
      "text/plain": [
       "array([[ 1.31066988e+01,  2.24667775e-02,  1.08463457e+00, ...,\n",
       "         3.82603733e-02,  1.63788534e-02,  8.52393075e-03],\n",
       "       [-5.20455154e-01, -4.55129570e-01, -7.91425158e-01, ...,\n",
       "        -8.15150359e-03,  9.66681197e-03,  3.33368784e-03],\n",
       "       [-8.00135982e+00,  3.30461896e-01,  7.16637742e+00, ...,\n",
       "        -1.10783557e-02, -1.48192414e-01, -2.39699509e-02],\n",
       "       ...,\n",
       "       [ 2.98090468e+00,  4.35071372e-01,  1.00957643e+00, ...,\n",
       "        -7.42361617e-02,  3.99754942e-03,  2.41264333e-02],\n",
       "       [ 3.53060093e+00,  3.09742817e+01,  2.36445295e-01, ...,\n",
       "         5.08872935e-02, -5.34347906e-02, -4.93121266e-02],\n",
       "       [ 3.54245423e+00, -7.14170974e-01,  1.77222035e+00, ...,\n",
       "        -6.84021874e-02, -9.69401939e-03,  4.72411231e-02]])"
      ]
     },
     "execution_count": 39,
     "metadata": {},
     "output_type": "execute_result"
    }
   ],
   "source": [
    "u @ (s[..., None] * v)"
   ]
  },
  {
   "cell_type": "code",
   "execution_count": null,
   "id": "f0392231",
   "metadata": {},
   "outputs": [],
   "source": []
  }
 ],
 "metadata": {
  "kernelspec": {
   "display_name": "Python 3",
   "language": "python",
   "name": "python3"
  },
  "language_info": {
   "codemirror_mode": {
    "name": "ipython",
    "version": 3
   },
   "file_extension": ".py",
   "mimetype": "text/x-python",
   "name": "python",
   "nbconvert_exporter": "python",
   "pygments_lexer": "ipython3",
   "version": "3.7.4"
  }
 },
 "nbformat": 4,
 "nbformat_minor": 5
}
